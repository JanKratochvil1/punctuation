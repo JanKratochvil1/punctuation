{
 "cells": [
  {
   "cell_type": "code",
   "execution_count": 1,
   "metadata": {},
   "outputs": [],
   "source": [
    "import requests\n",
    "import json"
   ]
  },
  {
   "cell_type": "code",
   "execution_count": null,
   "metadata": {},
   "outputs": [],
   "source": [
    "# pip install deepmultilingualpunctuation"
   ]
  },
  {
   "cell_type": "code",
   "execution_count": 2,
   "metadata": {},
   "outputs": [
    {
     "name": "stdout",
     "output_type": "stream",
     "text": [
      "In brief comments to CNN Monday, a spokesman for the IAEA would only say that two IAEA experts are definitely staying at the plant. The organization's Director General, Rafael Grossi, said during a visit to the plant last Thursday that the IAEA would keep a continuing presence there.\n"
     ]
    }
   ],
   "source": [
    "from deepmultilingualpunctuation import PunctuationModel\n",
    "\n",
    "model = PunctuationModel()\n",
    "text = \"In brief comments to CNN Monday a spokesman for the IAEA would only say that two IAEA experts are definitely staying at the plant The organization's Director General Rafael Grossi said during a visit to the plant last Thursday that the IAEA would keep a continuing presence there \"\n",
    "result = model.restore_punctuation(text)\n",
    "print(result)"
   ]
  },
  {
   "cell_type": "code",
   "execution_count": 2,
   "metadata": {},
   "outputs": [],
   "source": [
    "text = \"\"\"\n",
    "\n",
    "A worker at an airport who stole a twin-engine plane Saturday morning and threatened to crash it into a Mississippi Walmart was arrested after he eventually landed in a field, police said. In a news conference Saturday, Tupelo Police Chief John Quaka identified the arrested pilot as Cory Wayne Patterson, an employee with Tupelo Aviation for the past 10 years.\n",
    "Quaka said that at 5:08 a.m. local time, Patterson, of Shannon, Mississippi, stole a Beechcraft King Air C90 twin engine aircraft and took off from Tupelo Regional Airport. We do know Patterson has some flight instruction, Quaka said. We do not believe he is a licensed pilot. That is still ongoing, to discover that. As a lineman, Quaka said, Patterson is responsible for fueling aircraft. The chief said the plane was fully fueled the night before. Around 5:23 a.m., Patterson called Lee County 911 from the aircraft and said he was going to crash the plane into the West Main Walmart in Tupelo, Quaka said. Soon thereafter, the store and surrounding areas were evacuated. Numerous major streets in Tupelo were shut down as well, according to the chief.\n",
    "\n",
    "\n",
    "\"\"\""
   ]
  },
  {
   "cell_type": "code",
   "execution_count": 3,
   "metadata": {},
   "outputs": [
    {
     "name": "stdout",
     "output_type": "stream",
     "text": [
      "\"A worker at an airport stole a twin-engine plane and threatened to crash it into a Walmart on Saturday morning. He was arrested after landing in a field.\"\n"
     ]
    }
   ],
   "source": [
    "import requests\n",
    "\n",
    "# api access pint on localhost for the main.py\n",
    "\n",
    "# url = 'http://localhost:8000/generate'\n",
    "\n",
    "url = 'https://bart-finetuned-summarization-6u4yq4wz5q-no.a.run.app/generate'\n",
    "# insert a text to be sent as api request\n",
    "\n",
    "myobj = {'text': text, 'summary_min_length': 0, 'summary_max_length': 150}\n",
    "\n",
    "x = requests.post(url, json = myobj)\n",
    "\n",
    "print(x.text)\n"
   ]
  }
 ],
 "metadata": {
  "kernelspec": {
   "display_name": "Python 3.8.12 64-bit ('shims')",
   "language": "python",
   "name": "python3"
  },
  "language_info": {
   "codemirror_mode": {
    "name": "ipython",
    "version": 3
   },
   "file_extension": ".py",
   "mimetype": "text/x-python",
   "name": "python",
   "nbconvert_exporter": "python",
   "pygments_lexer": "ipython3",
   "version": "3.8.12"
  },
  "orig_nbformat": 4,
  "vscode": {
   "interpreter": {
    "hash": "82044278e2c5f7fd168fba520d5268c1317f361e2c92cdba95ccef1badd69173"
   }
  }
 },
 "nbformat": 4,
 "nbformat_minor": 2
}
